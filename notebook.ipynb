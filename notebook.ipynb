{
 "cells": [
  {
   "attachments": {},
   "cell_type": "markdown",
   "metadata": {},
   "source": [
    "# Do people perform worse with a time limit? \n",
    "## We study this we study this question in great detail.\n",
    "We will first run a hypothesis t-test for difference in mean score (proportion correct), \n",
    "and then we will run a t-slope test for time taken, and proportion correct"
   ]
  },
  {
   "attachments": {},
   "cell_type": "markdown",
   "metadata": {},
   "source": [
    "First, we will import our dataset"
   ]
  },
  {
   "cell_type": "code",
   "execution_count": 41,
   "metadata": {
    "vscode": {
     "languageId": "r"
    }
   },
   "outputs": [
    {
     "data": {
      "text/html": [
       "<style>\n",
       ".list-inline {list-style: none; margin:0; padding: 0}\n",
       ".list-inline>li {display: inline-block}\n",
       ".list-inline>li:not(:last-child)::after {content: \"\\00b7\"; padding: 0 .5ex}\n",
       "</style>\n",
       "<ol class=list-inline><li>90</li><li>6</li></ol>\n"
      ],
      "text/latex": [
       "\\begin{enumerate*}\n",
       "\\item 90\n",
       "\\item 6\n",
       "\\end{enumerate*}\n"
      ],
      "text/markdown": [
       "1. 90\n",
       "2. 6\n",
       "\n",
       "\n"
      ],
      "text/plain": [
       "[1] 90  6"
      ]
     },
     "metadata": {},
     "output_type": "display_data"
    }
   ],
   "source": [
    "data <- read.csv(\"data.csv\", quote=\"\")\n",
    "dim(data)"
   ]
  },
  {
   "attachments": {},
   "cell_type": "markdown",
   "metadata": {},
   "source": [
    "Then, lets split into our two treatments:"
   ]
  },
  {
   "cell_type": "code",
   "execution_count": 42,
   "metadata": {
    "vscode": {
     "languageId": "r"
    }
   },
   "outputs": [],
   "source": [
    "timed <- subset(data, treatment == \"timed\")\n",
    "untimed <- subset(data, treatment == \"untimed\")"
   ]
  },
  {
   "cell_type": "code",
   "execution_count": 43,
   "metadata": {
    "vscode": {
     "languageId": "r"
    }
   },
   "outputs": [
    {
     "data": {
      "text/plain": [
       "   proportion     \n",
       " Min.   :0.06667  \n",
       " 1st Qu.:0.91811  \n",
       " Median :0.96649  \n",
       " Mean   :0.91081  \n",
       " 3rd Qu.:0.98653  \n",
       " Max.   :1.00000  "
      ]
     },
     "metadata": {},
     "output_type": "display_data"
    },
    {
     "data": {
      "text/plain": [
       "   proportion    \n",
       " Min.   :0.8667  \n",
       " 1st Qu.:0.9590  \n",
       " Median :0.9867  \n",
       " Mean   :0.9735  \n",
       " 3rd Qu.:1.0000  \n",
       " Max.   :1.0000  "
      ]
     },
     "metadata": {},
     "output_type": "display_data"
    },
    {
     "data": {
      "text/html": [
       "<table class=\"dataframe\">\n",
       "<caption>A data.frame: 35 × 6</caption>\n",
       "<thead>\n",
       "\t<tr><th></th><th scope=col>treatment</th><th scope=col>attempted</th><th scope=col>correct</th><th scope=col>proportion</th><th scope=col>et</th><th scope=col>NOTES</th></tr>\n",
       "\t<tr><th></th><th scope=col>&lt;chr&gt;</th><th scope=col>&lt;chr&gt;</th><th scope=col>&lt;chr&gt;</th><th scope=col>&lt;dbl&gt;</th><th scope=col>&lt;int&gt;</th><th scope=col>&lt;chr&gt;</th></tr>\n",
       "</thead>\n",
       "<tbody>\n",
       "\t<tr><th scope=row>2</th><td>untimed</td><td>75</td><td>67</td><td>0.8930000</td><td>172</td><td>                             </td></tr>\n",
       "\t<tr><th scope=row>4</th><td>untimed</td><td>75</td><td>73</td><td>0.9730000</td><td>129</td><td>                             </td></tr>\n",
       "\t<tr><th scope=row>5</th><td>untimed</td><td>72</td><td>69</td><td>0.9580000</td><td>232</td><td>                             </td></tr>\n",
       "\t<tr><th scope=row>8</th><td>untimed</td><td>75</td><td>75</td><td>1.0000000</td><td>214</td><td>                             </td></tr>\n",
       "\t<tr><th scope=row>9</th><td>untimed</td><td>75</td><td>75</td><td>1.0000000</td><td>195</td><td>                             </td></tr>\n",
       "\t<tr><th scope=row>12</th><td>untimed</td><td>75</td><td>74</td><td>0.9866667</td><td> 81</td><td>                             </td></tr>\n",
       "\t<tr><th scope=row>18</th><td>untimed</td><td>75</td><td>75</td><td>1.0000000</td><td>348</td><td>                             </td></tr>\n",
       "\t<tr><th scope=row>19</th><td>untimed</td><td>71</td><td>69</td><td>0.9718310</td><td>428</td><td>                             </td></tr>\n",
       "\t<tr><th scope=row>49</th><td>untimed</td><td>75</td><td>72</td><td>0.9600000</td><td>128</td><td>                             </td></tr>\n",
       "\t<tr><th scope=row>50</th><td>untimed</td><td>75</td><td>75</td><td>1.0000000</td><td>220</td><td>                             </td></tr>\n",
       "\t<tr><th scope=row>51</th><td>untimed</td><td>75</td><td>75</td><td>1.0000000</td><td>149</td><td>                             </td></tr>\n",
       "\t<tr><th scope=row>53</th><td>untimed</td><td>75</td><td>71</td><td>0.9466667</td><td>193</td><td>                             </td></tr>\n",
       "\t<tr><th scope=row>54</th><td>untimed</td><td>75</td><td>70</td><td>0.9333333</td><td>239</td><td>                             </td></tr>\n",
       "\t<tr><th scope=row>55</th><td>untimed</td><td>75</td><td>65</td><td>0.8666667</td><td>523</td><td>                             </td></tr>\n",
       "\t<tr><th scope=row>59</th><td>untimed</td><td>55</td><td>53</td><td>0.9636364</td><td>420</td><td>                             </td></tr>\n",
       "\t<tr><th scope=row>60</th><td>untimed</td><td>75</td><td>75</td><td>1.0000000</td><td>152</td><td>                             </td></tr>\n",
       "\t<tr><th scope=row>61</th><td>untimed</td><td>75</td><td>70</td><td>0.9333333</td><td>273</td><td>                             </td></tr>\n",
       "\t<tr><th scope=row>62</th><td>untimed</td><td>75</td><td>74</td><td>0.9866667</td><td> 90</td><td>                             </td></tr>\n",
       "\t<tr><th scope=row>63</th><td>untimed</td><td>75</td><td>75</td><td>1.0000000</td><td>100</td><td>                             </td></tr>\n",
       "\t<tr><th scope=row>64</th><td>untimed</td><td>74</td><td>74</td><td>1.0000000</td><td>106</td><td>                             </td></tr>\n",
       "\t<tr><th scope=row>65</th><td>untimed</td><td>75</td><td>74</td><td>0.9866667</td><td>104</td><td>                             </td></tr>\n",
       "\t<tr><th scope=row>66</th><td>untimed</td><td>75</td><td>75</td><td>1.0000000</td><td>148</td><td>                             </td></tr>\n",
       "\t<tr><th scope=row>67</th><td>untimed</td><td>75</td><td>75</td><td>1.0000000</td><td>129</td><td>\"by this point               </td></tr>\n",
       "\t<tr><th scope=row>69</th><td>untimed</td><td>75</td><td>71</td><td>0.9466667</td><td>128</td><td>                             </td></tr>\n",
       "\t<tr><th scope=row>71</th><td>untimed</td><td>75</td><td>67</td><td>0.8933333</td><td>239</td><td>                             </td></tr>\n",
       "\t<tr><th scope=row>72</th><td>untimed</td><td>75</td><td>74</td><td>0.9866667</td><td>101</td><td>                             </td></tr>\n",
       "\t<tr><th scope=row>73</th><td>untimed</td><td>75</td><td>75</td><td>1.0000000</td><td>144</td><td>                             </td></tr>\n",
       "\t<tr><th scope=row>79</th><td>untimed</td><td>75</td><td>75</td><td>1.0000000</td><td>144</td><td>                             </td></tr>\n",
       "\t<tr><th scope=row>82</th><td>untimed</td><td>75</td><td>75</td><td>1.0000000</td><td>154</td><td>                             </td></tr>\n",
       "\t<tr><th scope=row>84</th><td>untimed</td><td>65</td><td>63</td><td>0.9692308</td><td>219</td><td>didn't finish because of bell</td></tr>\n",
       "\t<tr><th scope=row>85</th><td>untimed</td><td>75</td><td>75</td><td>1.0000000</td><td>195</td><td>                             </td></tr>\n",
       "\t<tr><th scope=row>87</th><td>untimed</td><td>75</td><td>75</td><td>1.0000000</td><td>379</td><td>                             </td></tr>\n",
       "\t<tr><th scope=row>88</th><td>untimed</td><td>75</td><td>75</td><td>1.0000000</td><td>148</td><td>                             </td></tr>\n",
       "\t<tr><th scope=row>89</th><td>untimed</td><td>69</td><td>66</td><td>0.9565217</td><td>570</td><td>                             </td></tr>\n",
       "\t<tr><th scope=row>90</th><td>untimed</td><td>75</td><td>72</td><td>0.9600000</td><td>555</td><td>                             </td></tr>\n",
       "</tbody>\n",
       "</table>\n"
      ],
      "text/latex": [
       "A data.frame: 35 × 6\n",
       "\\begin{tabular}{r|llllll}\n",
       "  & treatment & attempted & correct & proportion & et & NOTES\\\\\n",
       "  & <chr> & <chr> & <chr> & <dbl> & <int> & <chr>\\\\\n",
       "\\hline\n",
       "\t2 & untimed & 75 & 67 & 0.8930000 & 172 &                              \\\\\n",
       "\t4 & untimed & 75 & 73 & 0.9730000 & 129 &                              \\\\\n",
       "\t5 & untimed & 72 & 69 & 0.9580000 & 232 &                              \\\\\n",
       "\t8 & untimed & 75 & 75 & 1.0000000 & 214 &                              \\\\\n",
       "\t9 & untimed & 75 & 75 & 1.0000000 & 195 &                              \\\\\n",
       "\t12 & untimed & 75 & 74 & 0.9866667 &  81 &                              \\\\\n",
       "\t18 & untimed & 75 & 75 & 1.0000000 & 348 &                              \\\\\n",
       "\t19 & untimed & 71 & 69 & 0.9718310 & 428 &                              \\\\\n",
       "\t49 & untimed & 75 & 72 & 0.9600000 & 128 &                              \\\\\n",
       "\t50 & untimed & 75 & 75 & 1.0000000 & 220 &                              \\\\\n",
       "\t51 & untimed & 75 & 75 & 1.0000000 & 149 &                              \\\\\n",
       "\t53 & untimed & 75 & 71 & 0.9466667 & 193 &                              \\\\\n",
       "\t54 & untimed & 75 & 70 & 0.9333333 & 239 &                              \\\\\n",
       "\t55 & untimed & 75 & 65 & 0.8666667 & 523 &                              \\\\\n",
       "\t59 & untimed & 55 & 53 & 0.9636364 & 420 &                              \\\\\n",
       "\t60 & untimed & 75 & 75 & 1.0000000 & 152 &                              \\\\\n",
       "\t61 & untimed & 75 & 70 & 0.9333333 & 273 &                              \\\\\n",
       "\t62 & untimed & 75 & 74 & 0.9866667 &  90 &                              \\\\\n",
       "\t63 & untimed & 75 & 75 & 1.0000000 & 100 &                              \\\\\n",
       "\t64 & untimed & 74 & 74 & 1.0000000 & 106 &                              \\\\\n",
       "\t65 & untimed & 75 & 74 & 0.9866667 & 104 &                              \\\\\n",
       "\t66 & untimed & 75 & 75 & 1.0000000 & 148 &                              \\\\\n",
       "\t67 & untimed & 75 & 75 & 1.0000000 & 129 & \"by this point               \\\\\n",
       "\t69 & untimed & 75 & 71 & 0.9466667 & 128 &                              \\\\\n",
       "\t71 & untimed & 75 & 67 & 0.8933333 & 239 &                              \\\\\n",
       "\t72 & untimed & 75 & 74 & 0.9866667 & 101 &                              \\\\\n",
       "\t73 & untimed & 75 & 75 & 1.0000000 & 144 &                              \\\\\n",
       "\t79 & untimed & 75 & 75 & 1.0000000 & 144 &                              \\\\\n",
       "\t82 & untimed & 75 & 75 & 1.0000000 & 154 &                              \\\\\n",
       "\t84 & untimed & 65 & 63 & 0.9692308 & 219 & didn't finish because of bell\\\\\n",
       "\t85 & untimed & 75 & 75 & 1.0000000 & 195 &                              \\\\\n",
       "\t87 & untimed & 75 & 75 & 1.0000000 & 379 &                              \\\\\n",
       "\t88 & untimed & 75 & 75 & 1.0000000 & 148 &                              \\\\\n",
       "\t89 & untimed & 69 & 66 & 0.9565217 & 570 &                              \\\\\n",
       "\t90 & untimed & 75 & 72 & 0.9600000 & 555 &                              \\\\\n",
       "\\end{tabular}\n"
      ],
      "text/markdown": [
       "\n",
       "A data.frame: 35 × 6\n",
       "\n",
       "| <!--/--> | treatment &lt;chr&gt; | attempted &lt;chr&gt; | correct &lt;chr&gt; | proportion &lt;dbl&gt; | et &lt;int&gt; | NOTES &lt;chr&gt; |\n",
       "|---|---|---|---|---|---|---|\n",
       "| 2 | untimed | 75 | 67 | 0.8930000 | 172 | <!----> |\n",
       "| 4 | untimed | 75 | 73 | 0.9730000 | 129 | <!----> |\n",
       "| 5 | untimed | 72 | 69 | 0.9580000 | 232 | <!----> |\n",
       "| 8 | untimed | 75 | 75 | 1.0000000 | 214 | <!----> |\n",
       "| 9 | untimed | 75 | 75 | 1.0000000 | 195 | <!----> |\n",
       "| 12 | untimed | 75 | 74 | 0.9866667 |  81 | <!----> |\n",
       "| 18 | untimed | 75 | 75 | 1.0000000 | 348 | <!----> |\n",
       "| 19 | untimed | 71 | 69 | 0.9718310 | 428 | <!----> |\n",
       "| 49 | untimed | 75 | 72 | 0.9600000 | 128 | <!----> |\n",
       "| 50 | untimed | 75 | 75 | 1.0000000 | 220 | <!----> |\n",
       "| 51 | untimed | 75 | 75 | 1.0000000 | 149 | <!----> |\n",
       "| 53 | untimed | 75 | 71 | 0.9466667 | 193 | <!----> |\n",
       "| 54 | untimed | 75 | 70 | 0.9333333 | 239 | <!----> |\n",
       "| 55 | untimed | 75 | 65 | 0.8666667 | 523 | <!----> |\n",
       "| 59 | untimed | 55 | 53 | 0.9636364 | 420 | <!----> |\n",
       "| 60 | untimed | 75 | 75 | 1.0000000 | 152 | <!----> |\n",
       "| 61 | untimed | 75 | 70 | 0.9333333 | 273 | <!----> |\n",
       "| 62 | untimed | 75 | 74 | 0.9866667 |  90 | <!----> |\n",
       "| 63 | untimed | 75 | 75 | 1.0000000 | 100 | <!----> |\n",
       "| 64 | untimed | 74 | 74 | 1.0000000 | 106 | <!----> |\n",
       "| 65 | untimed | 75 | 74 | 0.9866667 | 104 | <!----> |\n",
       "| 66 | untimed | 75 | 75 | 1.0000000 | 148 | <!----> |\n",
       "| 67 | untimed | 75 | 75 | 1.0000000 | 129 | \"by this point                |\n",
       "| 69 | untimed | 75 | 71 | 0.9466667 | 128 | <!----> |\n",
       "| 71 | untimed | 75 | 67 | 0.8933333 | 239 | <!----> |\n",
       "| 72 | untimed | 75 | 74 | 0.9866667 | 101 | <!----> |\n",
       "| 73 | untimed | 75 | 75 | 1.0000000 | 144 | <!----> |\n",
       "| 79 | untimed | 75 | 75 | 1.0000000 | 144 | <!----> |\n",
       "| 82 | untimed | 75 | 75 | 1.0000000 | 154 | <!----> |\n",
       "| 84 | untimed | 65 | 63 | 0.9692308 | 219 | didn't finish because of bell |\n",
       "| 85 | untimed | 75 | 75 | 1.0000000 | 195 | <!----> |\n",
       "| 87 | untimed | 75 | 75 | 1.0000000 | 379 | <!----> |\n",
       "| 88 | untimed | 75 | 75 | 1.0000000 | 148 | <!----> |\n",
       "| 89 | untimed | 69 | 66 | 0.9565217 | 570 | <!----> |\n",
       "| 90 | untimed | 75 | 72 | 0.9600000 | 555 | <!----> |\n",
       "\n"
      ],
      "text/plain": [
       "   treatment attempted correct proportion et  NOTES                        \n",
       "2  untimed   75        67      0.8930000  172                              \n",
       "4  untimed   75        73      0.9730000  129                              \n",
       "5  untimed   72        69      0.9580000  232                              \n",
       "8  untimed   75        75      1.0000000  214                              \n",
       "9  untimed   75        75      1.0000000  195                              \n",
       "12 untimed   75        74      0.9866667   81                              \n",
       "18 untimed   75        75      1.0000000  348                              \n",
       "19 untimed   71        69      0.9718310  428                              \n",
       "49 untimed   75        72      0.9600000  128                              \n",
       "50 untimed   75        75      1.0000000  220                              \n",
       "51 untimed   75        75      1.0000000  149                              \n",
       "53 untimed   75        71      0.9466667  193                              \n",
       "54 untimed   75        70      0.9333333  239                              \n",
       "55 untimed   75        65      0.8666667  523                              \n",
       "59 untimed   55        53      0.9636364  420                              \n",
       "60 untimed   75        75      1.0000000  152                              \n",
       "61 untimed   75        70      0.9333333  273                              \n",
       "62 untimed   75        74      0.9866667   90                              \n",
       "63 untimed   75        75      1.0000000  100                              \n",
       "64 untimed   74        74      1.0000000  106                              \n",
       "65 untimed   75        74      0.9866667  104                              \n",
       "66 untimed   75        75      1.0000000  148                              \n",
       "67 untimed   75        75      1.0000000  129 \"by this point               \n",
       "69 untimed   75        71      0.9466667  128                              \n",
       "71 untimed   75        67      0.8933333  239                              \n",
       "72 untimed   75        74      0.9866667  101                              \n",
       "73 untimed   75        75      1.0000000  144                              \n",
       "79 untimed   75        75      1.0000000  144                              \n",
       "82 untimed   75        75      1.0000000  154                              \n",
       "84 untimed   65        63      0.9692308  219 didn't finish because of bell\n",
       "85 untimed   75        75      1.0000000  195                              \n",
       "87 untimed   75        75      1.0000000  379                              \n",
       "88 untimed   75        75      1.0000000  148                              \n",
       "89 untimed   69        66      0.9565217  570                              \n",
       "90 untimed   75        72      0.9600000  555                              "
      ]
     },
     "metadata": {},
     "output_type": "display_data"
    }
   ],
   "source": [
    "summary(timed[\"proportion\"])\n",
    "summary(untimed[\"proportion\"])\n",
    "untimed"
   ]
  },
  {
   "attachments": {},
   "cell_type": "markdown",
   "metadata": {},
   "source": [
    "### Difference in mean score"
   ]
  },
  {
   "cell_type": "code",
   "execution_count": 44,
   "metadata": {
    "vscode": {
     "languageId": "r"
    }
   },
   "outputs": [
    {
     "name": "stdout",
     "output_type": "stream",
     "text": [
      "\n",
      "\tWelch Two Sample t-test\n",
      "\n",
      "data:  untimed[\"proportion\"] and timed[\"proportion\"]\n",
      "t = 2.4493, df = 56.691, p-value = 0.008714\n",
      "alternative hypothesis: true difference in means is greater than 0\n",
      "95 percent confidence interval:\n",
      " 0.01988542        Inf\n",
      "sample estimates:\n",
      "mean of x mean of y \n",
      "0.9734825 0.9108078 \n",
      "\n"
     ]
    }
   ],
   "source": [
    "result <- t.test(untimed[\"proportion\"], timed[\"proportion\"], alternative= \"g\")\n",
    "\n",
    "# Print the results\n",
    "print(result)"
   ]
  },
  {
   "attachments": {},
   "cell_type": "markdown",
   "metadata": {},
   "source": [
    "### T-slope test\n",
    "For those who took th test untimed, is there a relationship with the time they took, and the proportion they got correct?"
   ]
  },
  {
   "attachments": {},
   "cell_type": "markdown",
   "metadata": {},
   "source": [
    "R has no t-slope test built in, but we can get the values doing basic linear regression"
   ]
  },
  {
   "cell_type": "code",
   "execution_count": 45,
   "metadata": {
    "vscode": {
     "languageId": "r"
    }
   },
   "outputs": [
    {
     "data": {
      "image/png": "[encoded data removed]",
      "text/plain": [
       "Plot with title \"Time Taken vs proportion correct\""
      ]
     },
     "metadata": {
      "image/png": {
       "height": 420,
       "width": 420
      }
     },
     "output_type": "display_data"
    }
   ],
   "source": [
    "model <- lm(proportion~et, data = untimed)\n",
    "plot(untimed$et, untimed$proportion, main = \"Time Taken vs proportion correct\", xlab = \"Time taken (seconds)\", ylab = \"proportion correct\")\n",
    "abline(model, col = \"red\", lwd = 2)\n",
    "eq <- paste0(\"y = \", round(coef(model)[1], 4), \" + \", round(coef(model)[2], 4), \"x\")\n",
    "text(400, .9, eq, pos = 3, offset = 0.5)"
   ]
  },
  {
   "cell_type": "code",
   "execution_count": 46,
   "metadata": {
    "vscode": {
     "languageId": "r"
    }
   },
   "outputs": [
    {
     "data": {
      "text/plain": [
       "\n",
       "Call:\n",
       "lm(formula = proportion ~ et, data = untimed)\n",
       "\n",
       "Residuals:\n",
       "     Min       1Q   Median       3Q      Max \n",
       "-0.08557 -0.01219  0.01464  0.01948  0.04274 \n",
       "\n",
       "Coefficients:\n",
       "              Estimate Std. Error t value Pr(>|t|)    \n",
       "(Intercept)  9.963e-01  1.074e-02  92.771   <2e-16 ***\n",
       "et          -1.029e-04  4.157e-05  -2.476   0.0186 *  \n",
       "---\n",
       "Signif. codes:  0 '***' 0.001 '**' 0.01 '*' 0.05 '.' 0.1 ' ' 1\n",
       "\n",
       "Residual standard error: 0.03273 on 33 degrees of freedom\n",
       "Multiple R-squared:  0.1566,\tAdjusted R-squared:  0.1311 \n",
       "F-statistic: 6.128 on 1 and 33 DF,  p-value: 0.01861\n"
      ]
     },
     "metadata": {},
     "output_type": "display_data"
    }
   ],
   "source": [
    "summary(model)"
   ]
  },
  {
   "attachments": {},
   "cell_type": "markdown",
   "metadata": {},
   "source": [
    "Our t-stat slope statistic can be found here:"
   ]
  },
  {
   "cell_type": "code",
   "execution_count": 47,
   "metadata": {
    "vscode": {
     "languageId": "r"
    }
   },
   "outputs": [
    {
     "data": {
      "text/html": [
       "-2.47552562963048"
      ],
      "text/latex": [
       "-2.47552562963048"
      ],
      "text/markdown": [
       "-2.47552562963048"
      ],
      "text/plain": [
       "[1] -2.475526"
      ]
     },
     "metadata": {},
     "output_type": "display_data"
    }
   ],
   "source": [
    "coef(summary(model))[\"et\", \"t value\"]"
   ]
  }
 ],
 "metadata": {
  "kernelspec": {
   "display_name": "R",
   "language": "R",
   "name": "ir"
  },
  "language_info": {
   "codemirror_mode": "r",
   "file_extension": ".r",
   "mimetype": "text/x-r-source",
   "name": "R",
   "pygments_lexer": "r",
   "version": "4.3.0"
  },
  "orig_nbformat": 4
 },
 "nbformat": 4,
 "nbformat_minor": 2
}
