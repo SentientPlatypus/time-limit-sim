{
 "cells": [
  {
   "attachments": {},
   "cell_type": "markdown",
   "metadata": {},
   "source": [
    "# Do people perform worse with a time limit? \n",
    "## We study this we study this question in great detail.\n",
    "We will first run a hypothesis t-test for difference in mean score (proportion correct), \n",
    "and then we will run a t-slope test for time taken, and proportion correct"
   ]
  },
  {
   "attachments": {},
   "cell_type": "markdown",
   "metadata": {},
   "source": [
    "First, we will import our dataset"
   ]
  },
  {
   "cell_type": "code",
   "execution_count": 1,
   "metadata": {
    "vscode": {
     "languageId": "r"
    }
   },
   "outputs": [
    {
     "data": {
      "text/html": [
       "<style>\n",
       ".list-inline {list-style: none; margin:0; padding: 0}\n",
       ".list-inline>li {display: inline-block}\n",
       ".list-inline>li:not(:last-child)::after {content: \"\\00b7\"; padding: 0 .5ex}\n",
       "</style>\n",
       "<ol class=list-inline><li>86</li><li>6</li></ol>\n"
      ],
      "text/latex": [
       "\\begin{enumerate*}\n",
       "\\item 86\n",
       "\\item 6\n",
       "\\end{enumerate*}\n"
      ],
      "text/markdown": [
       "1. 86\n",
       "2. 6\n",
       "\n",
       "\n"
      ],
      "text/plain": [
       "[1] 86  6"
      ]
     },
     "metadata": {},
     "output_type": "display_data"
    }
   ],
   "source": [
    "data <- read.csv(\"data.csv\", quote=\"\")\n",
    "dim(data)"
   ]
  },
  {
   "attachments": {},
   "cell_type": "markdown",
   "metadata": {},
   "source": [
    "Then, lets split into our two treatments:"
   ]
  },
  {
   "cell_type": "code",
   "execution_count": 2,
   "metadata": {
    "vscode": {
     "languageId": "r"
    }
   },
   "outputs": [],
   "source": [
    "timed <- subset(data, treatment == \"timed\")\n",
    "untimed <- subset(data, treatment == \"untimed\")"
   ]
  },
  {
   "cell_type": "code",
   "execution_count": 3,
   "metadata": {
    "vscode": {
     "languageId": "r"
    }
   },
   "outputs": [
    {
     "data": {
      "text/plain": [
       "   proportion     \n",
       " Min.   :0.06667  \n",
       " 1st Qu.:0.91811  \n",
       " Median :0.96649  \n",
       " Mean   :0.91081  \n",
       " 3rd Qu.:0.98653  \n",
       " Max.   :1.00000  "
      ]
     },
     "metadata": {},
     "output_type": "display_data"
    }
   ],
   "source": [
    "summary(timed[\"proportion\"])"
   ]
  },
  {
   "cell_type": "code",
   "execution_count": 4,
   "metadata": {
    "vscode": {
     "languageId": "r"
    }
   },
   "outputs": [
    {
     "data": {
      "text/plain": [
       "   proportion    \n",
       " Min.   :0.8667  \n",
       " 1st Qu.:0.9590  \n",
       " Median :0.9867  \n",
       " Mean   :0.9728  \n",
       " 3rd Qu.:1.0000  \n",
       " Max.   :1.0000  "
      ]
     },
     "metadata": {},
     "output_type": "display_data"
    }
   ],
   "source": [
    "summary(untimed[\"proportion\"])"
   ]
  },
  {
   "attachments": {},
   "cell_type": "markdown",
   "metadata": {},
   "source": [
    "### Difference in mean score"
   ]
  },
  {
   "cell_type": "code",
   "execution_count": 28,
   "metadata": {
    "vscode": {
     "languageId": "r"
    }
   },
   "outputs": [
    {
     "name": "stdout",
     "output_type": "stream",
     "text": [
      "\n",
      "\tWelch Two Sample t-test\n",
      "\n",
      "data:  untimed[\"proportion\"] and timed[\"proportion\"]\n",
      "t = 2.4065, df = 57.859, p-value = 0.00966\n",
      "alternative hypothesis: true difference in means is greater than 0\n",
      "95 percent confidence interval:\n",
      " 0.01891647        Inf\n",
      "sample estimates:\n",
      "mean of x mean of y \n",
      "0.9727537 0.9108078 \n",
      "\n"
     ]
    }
   ],
   "source": [
    "result <- t.test(untimed[\"proportion\"], timed[\"proportion\"], alternative= \"g\")\n",
    "\n",
    "# Print the results\n",
    "print(result)"
   ]
  },
  {
   "attachments": {},
   "cell_type": "markdown",
   "metadata": {},
   "source": [
    "### T-slope test\n",
    "For those who took th test untimed, is there a relationship with the time they took, and the proportion they got correct?"
   ]
  },
  {
   "attachments": {},
   "cell_type": "markdown",
   "metadata": {},
   "source": [
    "R has no t-slope test built in, but we can get the values doing basic linear regression"
   ]
  },
  {
   "cell_type": "code",
   "execution_count": 23,
   "metadata": {
    "vscode": {
     "languageId": "r"
    }
   },
   "outputs": [
    {
     "data": {
      "image/png": "[encoded data removed]",
      "text/plain": [
       "Plot with title \"Time Taken vs proportion correct\""
      ]
     },
     "metadata": {
      "image/png": {
       "height": 420,
       "width": 420
      }
     },
     "output_type": "display_data"
    }
   ],
   "source": [
    "model <- lm(proportion~et, data = untimed)\n",
    "plot(untimed$et, untimed$proportion, main = \"Time Taken vs proportion correct\", xlab = \"Time taken (seconds)\", ylab = \"proportion correct\")\n",
    "abline(model, col = \"red\", lwd = 2)\n",
    "eq <- paste0(\"y = \", round(coef(model)[1], 4), \" + \", round(coef(model)[2], 4), \"x\")\n",
    "text(400, .9, eq, pos = 3, offset = 0.5)"
   ]
  },
  {
   "cell_type": "code",
   "execution_count": 17,
   "metadata": {
    "vscode": {
     "languageId": "r"
    }
   },
   "outputs": [
    {
     "data": {
      "text/plain": [
       "\n",
       "Call:\n",
       "lm(formula = proportion ~ et, data = untimed)\n",
       "\n",
       "Residuals:\n",
       "     Min       1Q   Median       3Q      Max \n",
       "-0.08385 -0.01759  0.01118  0.01999  0.05240 \n",
       "\n",
       "Coefficients:\n",
       "              Estimate Std. Error t value Pr(>|t|)    \n",
       "(Intercept)  1.005e+00  1.246e-02   80.69  < 2e-16 ***\n",
       "et          -1.662e-04  5.596e-05   -2.97  0.00592 ** \n",
       "---\n",
       "Signif. codes:  0 '***' 0.001 '**' 0.01 '*' 0.05 '.' 0.1 ' ' 1\n",
       "\n",
       "Residual standard error: 0.03253 on 29 degrees of freedom\n",
       "Multiple R-squared:  0.2333,\tAdjusted R-squared:  0.2068 \n",
       "F-statistic: 8.824 on 1 and 29 DF,  p-value: 0.005919\n"
      ]
     },
     "metadata": {},
     "output_type": "display_data"
    }
   ],
   "source": [
    "summary(model)"
   ]
  },
  {
   "attachments": {},
   "cell_type": "markdown",
   "metadata": {},
   "source": [
    "Our t-stat slope statistic can be found here:"
   ]
  },
  {
   "cell_type": "code",
   "execution_count": 13,
   "metadata": {
    "vscode": {
     "languageId": "r"
    }
   },
   "outputs": [
    {
     "data": {
      "text/html": [
       "-2.97044175676668"
      ],
      "text/latex": [
       "-2.97044175676668"
      ],
      "text/markdown": [
       "-2.97044175676668"
      ],
      "text/plain": [
       "[1] -2.970442"
      ]
     },
     "metadata": {},
     "output_type": "display_data"
    }
   ],
   "source": [
    "coef(summary(model))[\"et\", \"t value\"]"
   ]
  }
 ],
 "metadata": {
  "kernelspec": {
   "display_name": "R",
   "language": "R",
   "name": "ir"
  },
  "language_info": {
   "codemirror_mode": "r",
   "file_extension": ".r",
   "mimetype": "text/x-r-source",
   "name": "R",
   "pygments_lexer": "r",
   "version": "4.3.0"
  },
  "orig_nbformat": 4
 },
 "nbformat": 4,
 "nbformat_minor": 2
}
