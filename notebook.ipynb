{
 "cells": [
  {
   "attachments": {},
   "cell_type": "markdown",
   "metadata": {},
   "source": [
    "# Do people perform worse with a time limit? \n",
    "## We study this we study this question in great detail.\n",
    "We will first run a hypothesis t-test for difference in mean score (proportion correct), \n",
    "and then we will run a t-slope test for time taken, and proportion correct"
   ]
  },
  {
   "cell_type": "code",
   "execution_count": 41,
   "metadata": {
    "vscode": {
     "languageId": "r"
    }
   },
   "outputs": [],
   "source": [
    "set_plot_dimensions <- function(width_choice, height_choice) {\n",
    "        options(repr.plot.width=width_choice, repr.plot.height=height_choice)\n",
    "        }"
   ]
  },
  {
   "attachments": {},
   "cell_type": "markdown",
   "metadata": {},
   "source": [
    "First, we will import our dataset"
   ]
  },
  {
   "cell_type": "code",
   "execution_count": 42,
   "metadata": {
    "vscode": {
     "languageId": "r"
    }
   },
   "outputs": [
    {
     "data": {
      "text/html": [
       "<style>\n",
       ".list-inline {list-style: none; margin:0; padding: 0}\n",
       ".list-inline>li {display: inline-block}\n",
       ".list-inline>li:not(:last-child)::after {content: \"\\00b7\"; padding: 0 .5ex}\n",
       "</style>\n",
       "<ol class=list-inline><li>103</li><li>6</li></ol>\n"
      ],
      "text/latex": [
       "\\begin{enumerate*}\n",
       "\\item 103\n",
       "\\item 6\n",
       "\\end{enumerate*}\n"
      ],
      "text/markdown": [
       "1. 103\n",
       "2. 6\n",
       "\n",
       "\n"
      ],
      "text/plain": [
       "[1] 103   6"
      ]
     },
     "metadata": {},
     "output_type": "display_data"
    }
   ],
   "source": [
    "data <- read.csv(\"data.csv\", quote=\"\")\n",
    "dim(data)"
   ]
  },
  {
   "attachments": {},
   "cell_type": "markdown",
   "metadata": {},
   "source": [
    "we also have outliers, so we also have a separate dataset, where we filtered those out."
   ]
  },
  {
   "cell_type": "code",
   "execution_count": 43,
   "metadata": {
    "vscode": {
     "languageId": "r"
    }
   },
   "outputs": [
    {
     "data": {
      "text/html": [
       "<style>\n",
       ".list-inline {list-style: none; margin:0; padding: 0}\n",
       ".list-inline>li {display: inline-block}\n",
       ".list-inline>li:not(:last-child)::after {content: \"\\00b7\"; padding: 0 .5ex}\n",
       "</style>\n",
       "<ol class=list-inline><li>98</li><li>6</li></ol>\n"
      ],
      "text/latex": [
       "\\begin{enumerate*}\n",
       "\\item 98\n",
       "\\item 6\n",
       "\\end{enumerate*}\n"
      ],
      "text/markdown": [
       "1. 98\n",
       "2. 6\n",
       "\n",
       "\n"
      ],
      "text/plain": [
       "[1] 98  6"
      ]
     },
     "metadata": {},
     "output_type": "display_data"
    }
   ],
   "source": [
    "data_no_outliers <- read.csv(\"datanooutliers.csv\", quote=\"\")\n",
    "dim(data_no_outliers)"
   ]
  },
  {
   "attachments": {},
   "cell_type": "markdown",
   "metadata": {},
   "source": [
    "Then, lets split into our two treatments:"
   ]
  },
  {
   "cell_type": "code",
   "execution_count": 44,
   "metadata": {
    "vscode": {
     "languageId": "r"
    }
   },
   "outputs": [],
   "source": [
    "timed <- subset(data, treatment == \"timed\")\n",
    "untimed <- subset(data, treatment == \"untimed\")\n",
    "\n",
    "timed_no <- subset(data_no_outliers, treatment == \"timed\")\n",
    "untimed_no <- subset(data_no_outliers, treatment == \"untimed\") "
   ]
  },
  {
   "cell_type": "code",
   "execution_count": 45,
   "metadata": {
    "vscode": {
     "languageId": "r"
    }
   },
   "outputs": [
    {
     "data": {
      "text/plain": [
       "   proportion     \n",
       " Min.   :0.06667  \n",
       " 1st Qu.:0.92821  \n",
       " Median :0.96721  \n",
       " Mean   :0.91365  \n",
       " 3rd Qu.:0.98610  \n",
       " Max.   :1.00000  "
      ]
     },
     "metadata": {},
     "output_type": "display_data"
    },
    {
     "data": {
      "text/plain": [
       "   proportion    \n",
       " Min.   :0.2639  \n",
       " 1st Qu.:0.9467  \n",
       " Median :0.9733  \n",
       " Mean   :0.9500  \n",
       " 3rd Qu.:1.0000  \n",
       " Max.   :1.0000  "
      ]
     },
     "metadata": {},
     "output_type": "display_data"
    }
   ],
   "source": [
    "summary(timed[\"proportion\"])\n",
    "summary(untimed[\"proportion\"])"
   ]
  },
  {
   "attachments": {},
   "cell_type": "markdown",
   "metadata": {},
   "source": [
    "### Difference in mean score"
   ]
  },
  {
   "cell_type": "code",
   "execution_count": 57,
   "metadata": {
    "vscode": {
     "languageId": "r"
    }
   },
   "outputs": [
    {
     "data": {
      "image/png": "[encoded data removed]",
      "text/plain": [
       "Plot with title \"Comparison of Proportion Correct\""
      ]
     },
     "metadata": {
      "image/png": {
       "height": 300,
       "width": 360
      }
     },
     "output_type": "display_data"
    }
   ],
   "source": [
    "set_plot_dimensions(6, 5)\n",
    "plot(1, type = \"n\", xlim = c(0, 1), ylim = c(0, 30), ylab = \"\", xlab = \"Proportion\",\n",
    "     main = \"Comparison of Proportion Correct\")\n",
    "\n",
    "# axis(side=1, at=seq(0, 1, by=.01))\n",
    "\n",
    "\n",
    "hist(timed$proportion, xlim = c(0, 1), ylim = c(0, 10), col = rgb(0,0,1,1/4), add = TRUE, breaks = 50)\n",
    "hist(untimed$proportion, xlim = c(0, 1), ylim = c(0, 10), col = rgb(1,0,0,1/4), add = TRUE, breaks = 50)\n",
    "\n",
    "\n",
    "# Create a vector of labels for the legend\n",
    "labels <- c(\"Timed\", \"Untimed\")\n",
    "\n",
    "#same for the colors\n",
    "colors <- c(rgb(0,0,1,1/4), rgb(1,0,0,1/4))\n",
    "\n",
    "# Add legend\n",
    "legend(\"topright\", legend = labels, fill = colors)\n"
   ]
  },
  {
   "cell_type": "code",
   "execution_count": 47,
   "metadata": {
    "vscode": {
     "languageId": "r"
    }
   },
   "outputs": [
    {
     "name": "stdout",
     "output_type": "stream",
     "text": [
      "\n",
      "\tWelch Two Sample t-test\n",
      "\n",
      "data:  untimed[\"proportion\"] and timed[\"proportion\"]\n",
      "t = 1.2447, df = 94.019, p-value = 0.1082\n",
      "alternative hypothesis: true difference in means is greater than 0\n",
      "95 percent confidence interval:\n",
      " -0.01215137         Inf\n",
      "sample estimates:\n",
      "mean of x mean of y \n",
      "0.9499602 0.9136521 \n",
      "\n"
     ]
    }
   ],
   "source": [
    "result <- t.test(untimed[\"proportion\"], timed[\"proportion\"], alternative= \"g\")\n",
    "\n",
    "# Print the results\n",
    "print(result)"
   ]
  },
  {
   "attachments": {},
   "cell_type": "markdown",
   "metadata": {},
   "source": [
    "### Difference in mean score but without outliers"
   ]
  },
  {
   "cell_type": "code",
   "execution_count": 48,
   "metadata": {
    "vscode": {
     "languageId": "r"
    }
   },
   "outputs": [
    {
     "name": "stdout",
     "output_type": "stream",
     "text": [
      "\n",
      "\tWelch Two Sample t-test\n",
      "\n",
      "data:  untimed_no[\"proportion\"] and timed_no[\"proportion\"]\n",
      "t = 1.5917, df = 82.077, p-value = 0.05764\n",
      "alternative hypothesis: true difference in means is greater than 0\n",
      "95 percent confidence interval:\n",
      " -0.0010483        Inf\n",
      "sample estimates:\n",
      "mean of x mean of y \n",
      "0.9655527 0.9423433 \n",
      "\n"
     ]
    }
   ],
   "source": [
    "result_no <- t.test(untimed_no[\"proportion\"], timed_no[\"proportion\"], alternative= \"g\", conf.level=.95)\n",
    "\n",
    "# Print the results\n",
    "print(result_no)"
   ]
  },
  {
   "attachments": {},
   "cell_type": "markdown",
   "metadata": {},
   "source": [
    "### T-slope test\n",
    "For those who took th test untimed, is there a relationship with the time they took, and the proportion they got correct?"
   ]
  },
  {
   "attachments": {},
   "cell_type": "markdown",
   "metadata": {},
   "source": [
    "R has no t-slope test built in, but we can get the values doing basic linear regression"
   ]
  },
  {
   "cell_type": "code",
   "execution_count": 49,
   "metadata": {
    "vscode": {
     "languageId": "r"
    }
   },
   "outputs": [
    {
     "data": {
      "image/png": "[encoded data removed]",
      "text/plain": [
       "Plot with title \"Time Taken vs proportion correct\""
      ]
     },
     "metadata": {
      "image/png": {
       "height": 300,
       "width": 360
      }
     },
     "output_type": "display_data"
    }
   ],
   "source": [
    "model <- lm(proportion~et, data = untimed)\n",
    "plot(untimed$et, untimed$proportion, main = \"Time Taken vs proportion correct\", xlab = \"Time taken (seconds)\", ylab = \"proportion correct\")\n",
    "abline(model, col = \"red\", lwd = 2)\n",
    "eq <- paste0(\"y = \", round(coef(model)[1], 4), \" + \", round(coef(model)[2], 4), \"x\")\n",
    "text(400, .9, eq, pos = 3, offset = 0.5)"
   ]
  },
  {
   "cell_type": "code",
   "execution_count": 50,
   "metadata": {
    "vscode": {
     "languageId": "r"
    }
   },
   "outputs": [
    {
     "data": {
      "text/plain": [
       "\n",
       "Call:\n",
       "lm(formula = proportion ~ et, data = untimed)\n",
       "\n",
       "Residuals:\n",
       "     Min       1Q   Median       3Q      Max \n",
       "-0.66869 -0.00376  0.01923  0.03551  0.08317 \n",
       "\n",
       "Coefficients:\n",
       "            Estimate Std. Error t value Pr(>|t|)    \n",
       "(Intercept)  0.99641    0.03529   28.23   <2e-16 ***\n",
       "et          -0.00021    0.00014   -1.50    0.141    \n",
       "---\n",
       "Signif. codes:  0 '***' 0.001 '**' 0.01 '*' 0.05 '.' 0.1 ' ' 1\n",
       "\n",
       "Residual standard error: 0.1136 on 43 degrees of freedom\n",
       "Multiple R-squared:  0.04973,\tAdjusted R-squared:  0.02763 \n",
       "F-statistic:  2.25 on 1 and 43 DF,  p-value: 0.1409\n"
      ]
     },
     "metadata": {},
     "output_type": "display_data"
    }
   ],
   "source": [
    "summary(model)"
   ]
  },
  {
   "attachments": {},
   "cell_type": "markdown",
   "metadata": {},
   "source": [
    "Our t-stat slope statistic can be found here:"
   ]
  },
  {
   "cell_type": "code",
   "execution_count": 51,
   "metadata": {
    "vscode": {
     "languageId": "r"
    }
   },
   "outputs": [
    {
     "name": "stdout",
     "output_type": "stream",
     "text": [
      "[1] \"T-Statistic -1.5000375789375\"\n",
      "[1] \"P-Val 0.140911883294628\"\n"
     ]
    }
   ],
   "source": [
    "print(paste(\"T-Statistic\",coef(summary(model))[\"et\", \"t value\"]))\n",
    "print(paste(\"P-Val\",coef(summary(model))[\"et\", \"Pr(>|t|)\"]))"
   ]
  },
  {
   "attachments": {},
   "cell_type": "markdown",
   "metadata": {},
   "source": [
    "### T slope test without outliers"
   ]
  },
  {
   "cell_type": "code",
   "execution_count": 52,
   "metadata": {
    "vscode": {
     "languageId": "r"
    }
   },
   "outputs": [
    {
     "data": {
      "image/png": "[encoded data removed]",
      "text/plain": [
       "Plot with title \"Time Taken vs proportion correct (No outliers)\""
      ]
     },
     "metadata": {
      "image/png": {
       "height": 300,
       "width": 360
      }
     },
     "output_type": "display_data"
    }
   ],
   "source": [
    "model_no <- lm(proportion~et, data = untimed_no)\n",
    "plot(untimed_no$et, untimed_no$proportion, main = \"Time Taken vs proportion correct (No outliers)\", xlab = \"Time taken (seconds)\", ylab = \"proportion correct\")\n",
    "abline(model_no, col = \"red\", lwd = 2)\n",
    "eq <- paste0(\"y = \", round(coef(model_no)[1], 4), \" + \", round(coef(model_no)[2], 4), \"x\")\n",
    "text(400, .9, eq, pos = 3, offset = 0.5)\n"
   ]
  },
  {
   "cell_type": "code",
   "execution_count": 53,
   "metadata": {
    "vscode": {
     "languageId": "r"
    }
   },
   "outputs": [
    {
     "data": {
      "text/plain": [
       "\n",
       "Call:\n",
       "lm(formula = proportion ~ et, data = untimed_no)\n",
       "\n",
       "Residuals:\n",
       "     Min       1Q   Median       3Q      Max \n",
       "-0.22648 -0.01764  0.01036  0.02588  0.05410 \n",
       "\n",
       "Coefficients:\n",
       "              Estimate Std. Error t value Pr(>|t|)    \n",
       "(Intercept)  9.926e-01  1.460e-02  67.975   <2e-16 ***\n",
       "et          -1.231e-04  5.821e-05  -2.115   0.0404 *  \n",
       "---\n",
       "Signif. codes:  0 '***' 0.001 '**' 0.01 '*' 0.05 '.' 0.1 ' ' 1\n",
       "\n",
       "Residual standard error: 0.04699 on 42 degrees of freedom\n",
       "Multiple R-squared:  0.09624,\tAdjusted R-squared:  0.07472 \n",
       "F-statistic: 4.472 on 1 and 42 DF,  p-value: 0.04042\n"
      ]
     },
     "metadata": {},
     "output_type": "display_data"
    },
    {
     "name": "stdout",
     "output_type": "stream",
     "text": [
      "[1] \"T-Statistic -2.11481556229248\"\n",
      "[1] \"P-Val 0.0404212754760079\"\n"
     ]
    }
   ],
   "source": [
    "summary(model_no)\n",
    "print(paste(\"T-Statistic\",coef(summary(model_no))[\"et\", \"t value\"]))\n",
    "print(paste(\"P-Val\",coef(summary(model_no))[\"et\", \"Pr(>|t|)\"]))"
   ]
  }
 ],
 "metadata": {
  "kernelspec": {
   "display_name": "R",
   "language": "R",
   "name": "ir"
  },
  "language_info": {
   "codemirror_mode": "r",
   "file_extension": ".r",
   "mimetype": "text/x-r-source",
   "name": "R",
   "pygments_lexer": "r",
   "version": "4.3.0"
  },
  "orig_nbformat": 4
 },
 "nbformat": 4,
 "nbformat_minor": 2
}
