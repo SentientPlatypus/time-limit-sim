{
 "cells": [
  {
   "attachments": {},
   "cell_type": "markdown",
   "metadata": {},
   "source": [
    "# Do people perform worse with a time limit? \n",
    "## We study this we study this question in great detail.\n",
    "We will first run a hypothesis t-test for difference in mean score (proportion correct), \n",
    "and then we will run a t-slope test for time taken, and proportion correct"
   ]
  },
  {
   "attachments": {},
   "cell_type": "markdown",
   "metadata": {},
   "source": [
    "### Explaining sample size\n",
    "The following is a calculator of sample size given a margin of error and standard deviations.\n",
    "The standard deviation of proportion correct for those with the timed treatment was .1149091. \n",
    "The standard deviation of proportion correct for those with the untimed treatment was .03679801\n",
    "\n",
    "> These standard deviations came from a test run."
   ]
  },
  {
   "cell_type": "code",
   "execution_count": 68,
   "metadata": {
    "vscode": {
     "languageId": "r"
    }
   },
   "outputs": [
    {
     "data": {
      "text/html": [
       "61"
      ],
      "text/latex": [
       "61"
      ],
      "text/markdown": [
       "61"
      ],
      "text/plain": [
       "[1] 61"
      ]
     },
     "metadata": {},
     "output_type": "display_data"
    }
   ],
   "source": [
    "\n",
    "\n",
    "# Set the desired margin of error and other parameters\n",
    "\n",
    "get_sample_size <- function(margin_of_error, alpha=.05, sd1=.1149091, sd2=.03679801) {\n",
    "    degreesoffreedomfromz <- ((sd1+sd2) /((margin_of_error/qnorm(1-alpha/2))^2)) - 1\n",
    "\n",
    "    final_size <- ceiling((sd1+sd2)/((margin_of_error/qt(1-alpha/2,degreesoffreedomfromz))^2))\n",
    "    return (final_size)\n",
    "}\n",
    "\n",
    "get_sample_size(.1)"
   ]
  },
  {
   "attachments": {},
   "cell_type": "markdown",
   "metadata": {},
   "source": [
    "This means that I need 61 trials for each treatments, totalling to 122."
   ]
  },
  {
   "cell_type": "code",
   "execution_count": 27,
   "metadata": {
    "vscode": {
     "languageId": "r"
    }
   },
   "outputs": [],
   "source": [
    "set_plot_dimensions <- function(width_choice, height_choice) {\n",
    "        options(repr.plot.width=width_choice, repr.plot.height=height_choice)\n",
    "        }"
   ]
  },
  {
   "attachments": {},
   "cell_type": "markdown",
   "metadata": {},
   "source": [
    "First, we will import our dataset"
   ]
  },
  {
   "cell_type": "code",
   "execution_count": 28,
   "metadata": {
    "vscode": {
     "languageId": "r"
    }
   },
   "outputs": [
    {
     "data": {
      "text/html": [
       "<style>\n",
       ".list-inline {list-style: none; margin:0; padding: 0}\n",
       ".list-inline>li {display: inline-block}\n",
       ".list-inline>li:not(:last-child)::after {content: \"\\00b7\"; padding: 0 .5ex}\n",
       "</style>\n",
       "<ol class=list-inline><li>103</li><li>6</li></ol>\n"
      ],
      "text/latex": [
       "\\begin{enumerate*}\n",
       "\\item 103\n",
       "\\item 6\n",
       "\\end{enumerate*}\n"
      ],
      "text/markdown": [
       "1. 103\n",
       "2. 6\n",
       "\n",
       "\n"
      ],
      "text/plain": [
       "[1] 103   6"
      ]
     },
     "metadata": {},
     "output_type": "display_data"
    }
   ],
   "source": [
    "data <- read.csv(\"data.csv\", quote=\"\")\n",
    "dim(data)"
   ]
  },
  {
   "attachments": {},
   "cell_type": "markdown",
   "metadata": {},
   "source": [
    "we also have outliers, so we also have a separate dataset, where we filtered those out."
   ]
  },
  {
   "cell_type": "code",
   "execution_count": 29,
   "metadata": {
    "vscode": {
     "languageId": "r"
    }
   },
   "outputs": [
    {
     "data": {
      "text/html": [
       "<style>\n",
       ".list-inline {list-style: none; margin:0; padding: 0}\n",
       ".list-inline>li {display: inline-block}\n",
       ".list-inline>li:not(:last-child)::after {content: \"\\00b7\"; padding: 0 .5ex}\n",
       "</style>\n",
       "<ol class=list-inline><li>98</li><li>6</li></ol>\n"
      ],
      "text/latex": [
       "\\begin{enumerate*}\n",
       "\\item 98\n",
       "\\item 6\n",
       "\\end{enumerate*}\n"
      ],
      "text/markdown": [
       "1. 98\n",
       "2. 6\n",
       "\n",
       "\n"
      ],
      "text/plain": [
       "[1] 98  6"
      ]
     },
     "metadata": {},
     "output_type": "display_data"
    }
   ],
   "source": [
    "data_no_outliers <- read.csv(\"datanooutliers.csv\", quote=\"\")\n",
    "dim(data_no_outliers)"
   ]
  },
  {
   "attachments": {},
   "cell_type": "markdown",
   "metadata": {},
   "source": [
    "Then, lets split into our two treatments:"
   ]
  },
  {
   "cell_type": "code",
   "execution_count": 30,
   "metadata": {
    "vscode": {
     "languageId": "r"
    }
   },
   "outputs": [],
   "source": [
    "timed <- subset(data, treatment == \"timed\")\n",
    "untimed <- subset(data, treatment == \"untimed\")\n",
    "\n",
    "timed_no <- subset(data_no_outliers, treatment == \"timed\")\n",
    "untimed_no <- subset(data_no_outliers, treatment == \"untimed\") "
   ]
  },
  {
   "cell_type": "code",
   "execution_count": 55,
   "metadata": {
    "vscode": {
     "languageId": "r"
    }
   },
   "outputs": [
    {
     "data": {
      "text/plain": [
       "   proportion     \n",
       " Min.   :0.06667  \n",
       " 1st Qu.:0.92821  \n",
       " Median :0.96721  \n",
       " Mean   :0.91365  \n",
       " 3rd Qu.:0.98610  \n",
       " Max.   :1.00000  "
      ]
     },
     "metadata": {},
     "output_type": "display_data"
    },
    {
     "data": {
      "text/html": [
       "0.114909103196814"
      ],
      "text/latex": [
       "0.114909103196814"
      ],
      "text/markdown": [
       "0.114909103196814"
      ],
      "text/plain": [
       "[1] 0.1149091"
      ]
     },
     "metadata": {},
     "output_type": "display_data"
    },
    {
     "data": {
      "text/plain": [
       "   proportion    \n",
       " Min.   :0.2639  \n",
       " 1st Qu.:0.9467  \n",
       " Median :0.9733  \n",
       " Mean   :0.9500  \n",
       " 3rd Qu.:1.0000  \n",
       " Max.   :1.0000  "
      ]
     },
     "metadata": {},
     "output_type": "display_data"
    },
    {
     "data": {
      "text/html": [
       "0.0367980083919131"
      ],
      "text/latex": [
       "0.0367980083919131"
      ],
      "text/markdown": [
       "0.0367980083919131"
      ],
      "text/plain": [
       "[1] 0.03679801"
      ]
     },
     "metadata": {},
     "output_type": "display_data"
    }
   ],
   "source": [
    "summary(timed[\"proportion\"])\n",
    "summary(untimed[\"proportion\"])"
   ]
  },
  {
   "attachments": {},
   "cell_type": "markdown",
   "metadata": {},
   "source": [
    "### Difference in mean score"
   ]
  },
  {
   "attachments": {},
   "cell_type": "markdown",
   "metadata": {},
   "source": [
    "Lets check conditions yeah?\n",
    "### CONDITIONS\n",
    "1. independently chosen samples\n",
    "2. Each sample is random\n",
    "3. each sample is less than 10% of the population.\n",
    "4. Both histograms are unimodal and symmetric OR large sample sizes"
   ]
  },
  {
   "cell_type": "code",
   "execution_count": 32,
   "metadata": {
    "vscode": {
     "languageId": "r"
    }
   },
   "outputs": [
    {
     "data": {
      "text/html": [
       "45"
      ],
      "text/latex": [
       "45"
      ],
      "text/markdown": [
       "45"
      ],
      "text/plain": [
       "[1] 45"
      ]
     },
     "metadata": {},
     "output_type": "display_data"
    },
    {
     "data": {
      "text/html": [
       "55"
      ],
      "text/latex": [
       "55"
      ],
      "text/markdown": [
       "55"
      ],
      "text/plain": [
       "[1] 55"
      ]
     },
     "metadata": {},
     "output_type": "display_data"
    }
   ],
   "source": [
    "nrow(untimed)\n",
    "nrow(timed)"
   ]
  },
  {
   "cell_type": "code",
   "execution_count": 33,
   "metadata": {
    "vscode": {
     "languageId": "r"
    }
   },
   "outputs": [
    {
     "data": {
      "text/html": [
       "44"
      ],
      "text/latex": [
       "44"
      ],
      "text/markdown": [
       "44"
      ],
      "text/plain": [
       "[1] 44"
      ]
     },
     "metadata": {},
     "output_type": "display_data"
    },
    {
     "data": {
      "text/html": [
       "53"
      ],
      "text/latex": [
       "53"
      ],
      "text/markdown": [
       "53"
      ],
      "text/plain": [
       "[1] 53"
      ]
     },
     "metadata": {},
     "output_type": "display_data"
    }
   ],
   "source": [
    "nrow(untimed_no)\n",
    "nrow(timed_no)"
   ]
  },
  {
   "cell_type": "code",
   "execution_count": 34,
   "metadata": {
    "vscode": {
     "languageId": "r"
    }
   },
   "outputs": [
    {
     "data": {
      "image/png": "[encoded data removed]",
      "text/plain": [
       "Plot with title \"Comparison of Proportion Correct\""
      ]
     },
     "metadata": {
      "image/png": {
       "height": 300,
       "width": 360
      }
     },
     "output_type": "display_data"
    }
   ],
   "source": [
    "set_plot_dimensions(6, 5)\n",
    "plot(1, type = \"n\", xlim = c(0, 1), ylim = c(0, 30), ylab = \"\", xlab = \"Proportion\",\n",
    "     main = \"Comparison of Proportion Correct\")\n",
    "\n",
    "# axis(side=1, at=seq(0, 1, by=.01))\n",
    "\n",
    "\n",
    "hist(timed$proportion, xlim = c(0, 1), ylim = c(0, 10), col = rgb(0,0,1,1/4), add = TRUE, breaks = 50)\n",
    "hist(untimed$proportion, xlim = c(0, 1), ylim = c(0, 10), col = rgb(1,0,0,1/4), add = TRUE, breaks = 50)\n",
    "\n",
    "\n",
    "# Create a vector of labels for the legend\n",
    "labels <- c(\"Timed\", \"Untimed\")\n",
    "\n",
    "#same for the colors\n",
    "colors <- c(rgb(0,0,1,1/4), rgb(1,0,0,1/4))\n",
    "\n",
    "# Add legend\n",
    "legend(\"topright\", legend = labels, fill = colors)\n"
   ]
  },
  {
   "cell_type": "code",
   "execution_count": 35,
   "metadata": {
    "vscode": {
     "languageId": "r"
    }
   },
   "outputs": [
    {
     "name": "stdout",
     "output_type": "stream",
     "text": [
      "\n",
      "\tWelch Two Sample t-test\n",
      "\n",
      "data:  untimed[\"proportion\"] and timed[\"proportion\"]\n",
      "t = 1.2447, df = 94.019, p-value = 0.2163\n",
      "alternative hypothesis: true difference in means is not equal to 0\n",
      "95 percent confidence interval:\n",
      " -0.0216114  0.0942276\n",
      "sample estimates:\n",
      "mean of x mean of y \n",
      "0.9499602 0.9136521 \n",
      "\n"
     ]
    }
   ],
   "source": [
    "result <- t.test(untimed[\"proportion\"], timed[\"proportion\"], alternative= \"two.sided\", conf.level=.95)\n",
    "\n",
    "# Print the results\n",
    "print(result)"
   ]
  },
  {
   "attachments": {},
   "cell_type": "markdown",
   "metadata": {},
   "source": [
    "### Difference in mean score but without outliers"
   ]
  },
  {
   "cell_type": "code",
   "execution_count": 36,
   "metadata": {
    "vscode": {
     "languageId": "r"
    }
   },
   "outputs": [
    {
     "name": "stdout",
     "output_type": "stream",
     "text": [
      "\n",
      "\tWelch Two Sample t-test\n",
      "\n",
      "data:  untimed_no[\"proportion\"] and timed_no[\"proportion\"]\n",
      "t = 1.5917, df = 82.077, p-value = 0.1153\n",
      "alternative hypothesis: true difference in means is not equal to 0\n",
      "95 percent confidence interval:\n",
      " -0.005796787  0.052215508\n",
      "sample estimates:\n",
      "mean of x mean of y \n",
      "0.9655527 0.9423433 \n",
      "\n"
     ]
    }
   ],
   "source": [
    "result_no <- t.test(untimed_no[\"proportion\"], timed_no[\"proportion\"], \"two.sided\", conf.level=.95)\n",
    "\n",
    "# Print the results\n",
    "print(result_no)"
   ]
  },
  {
   "attachments": {},
   "cell_type": "markdown",
   "metadata": {},
   "source": [
    "### T-slope test\n",
    "For those who took th test untimed, is there a relationship with the time they took, and the proportion they got correct?"
   ]
  },
  {
   "attachments": {},
   "cell_type": "markdown",
   "metadata": {},
   "source": [
    "### Checking conditions.\n",
    "1. Association is Linear (kinda)\n",
    "2. sample < 10% of population (yes, it should be)\n",
    "3. histogram of residuals is approx normal Observe.\n",
    "4. Residuals plot has equal variablilty (sure)\n"
   ]
  },
  {
   "attachments": {},
   "cell_type": "markdown",
   "metadata": {},
   "source": [
    "This looks pretty linear:"
   ]
  },
  {
   "cell_type": "code",
   "execution_count": 37,
   "metadata": {
    "vscode": {
     "languageId": "r"
    }
   },
   "outputs": [
    {
     "data": {
      "image/png": "[encoded data removed]",
      "text/plain": [
       "Plot with title \"Time Taken vs proportion correct\""
      ]
     },
     "metadata": {
      "image/png": {
       "height": 300,
       "width": 360
      }
     },
     "output_type": "display_data"
    }
   ],
   "source": [
    "plot(untimed$et, untimed$proportion, main = \"Time Taken vs proportion correct\", xlab = \"Time taken (seconds)\", ylab = \"proportion correct\")"
   ]
  },
  {
   "attachments": {},
   "cell_type": "markdown",
   "metadata": {},
   "source": [
    "Starting with the histogram, we can see its approx normal"
   ]
  },
  {
   "cell_type": "code",
   "execution_count": 38,
   "metadata": {
    "vscode": {
     "languageId": "r"
    }
   },
   "outputs": [
    {
     "data": {
      "image/png": "[encoded data removed]",
      "text/plain": [
       "Plot with title \"Histogram of Residuals\""
      ]
     },
     "metadata": {
      "image/png": {
       "height": 300,
       "width": 360
      }
     },
     "output_type": "display_data"
    }
   ],
   "source": [
    "model <- lm(proportion~et, data = untimed)\n",
    "residuals <- residuals(model)\n",
    "set_plot_dimensions(6, 5)\n",
    "\n",
    "# Create a histogram of the residuals\n",
    "hist(residuals, col = \"steelblue\",xlim = c(-.6, .6), ylim = c(0, 12), main = \"Histogram of Residuals\", xlab = \"Residuals\", breaks=50)"
   ]
  },
  {
   "attachments": {},
   "cell_type": "markdown",
   "metadata": {},
   "source": [
    "We can satisfy the 10% condition by looking at our sample size: 45. Its definitely less than 10%"
   ]
  },
  {
   "cell_type": "code",
   "execution_count": 39,
   "metadata": {
    "vscode": {
     "languageId": "r"
    }
   },
   "outputs": [
    {
     "data": {
      "text/html": [
       "45"
      ],
      "text/latex": [
       "45"
      ],
      "text/markdown": [
       "45"
      ],
      "text/plain": [
       "[1] 45"
      ]
     },
     "metadata": {},
     "output_type": "display_data"
    }
   ],
   "source": [
    "nrow(untimed)"
   ]
  },
  {
   "attachments": {},
   "cell_type": "markdown",
   "metadata": {},
   "source": [
    "Now for homoscedasticity: If this isnt homoscedastic, I dont know what is bro."
   ]
  },
  {
   "cell_type": "code",
   "execution_count": 40,
   "metadata": {
    "vscode": {
     "languageId": "r"
    }
   },
   "outputs": [
    {
     "data": {
      "image/png": "[encoded data removed]",
      "text/plain": [
       "Plot with title \"Plot of Residuals\""
      ]
     },
     "metadata": {
      "image/png": {
       "height": 300,
       "width": 360
      }
     },
     "output_type": "display_data"
    }
   ],
   "source": [
    "plot(residuals, type = \"p\", pch = 20, col = \"steelblue\",\n",
    "     main = \"Plot of Residuals\", xlab = \"Observation\", ylab = \"Residuals\")"
   ]
  },
  {
   "attachments": {},
   "cell_type": "markdown",
   "metadata": {},
   "source": [
    "R has no t-slope test built in, but we can get the values doing basic linear regression"
   ]
  },
  {
   "cell_type": "code",
   "execution_count": 41,
   "metadata": {
    "vscode": {
     "languageId": "r"
    }
   },
   "outputs": [
    {
     "data": {
      "image/png": "[encoded data removed]",
      "text/plain": [
       "Plot with title \"Time Taken vs proportion correct\""
      ]
     },
     "metadata": {
      "image/png": {
       "height": 300,
       "width": 360
      }
     },
     "output_type": "display_data"
    }
   ],
   "source": [
    "plot(untimed$et, untimed$proportion, main = \"Time Taken vs proportion correct\", xlab = \"Time taken (seconds)\", ylab = \"proportion correct\")\n",
    "abline(model, col = \"red\", lwd = 2)\n",
    "eq <- paste0(\"y = \", round(coef(model)[1], 4), \" + \", round(coef(model)[2], 4), \"x\")\n",
    "text(400, .9, eq, pos = 3, offset = 0.5)"
   ]
  },
  {
   "cell_type": "code",
   "execution_count": 42,
   "metadata": {
    "vscode": {
     "languageId": "r"
    }
   },
   "outputs": [
    {
     "data": {
      "text/plain": [
       "\n",
       "Call:\n",
       "lm(formula = proportion ~ et, data = untimed)\n",
       "\n",
       "Residuals:\n",
       "     Min       1Q   Median       3Q      Max \n",
       "-0.66869 -0.00376  0.01923  0.03551  0.08317 \n",
       "\n",
       "Coefficients:\n",
       "            Estimate Std. Error t value Pr(>|t|)    \n",
       "(Intercept)  0.99641    0.03529   28.23   <2e-16 ***\n",
       "et          -0.00021    0.00014   -1.50    0.141    \n",
       "---\n",
       "Signif. codes:  0 '***' 0.001 '**' 0.01 '*' 0.05 '.' 0.1 ' ' 1\n",
       "\n",
       "Residual standard error: 0.1136 on 43 degrees of freedom\n",
       "Multiple R-squared:  0.04973,\tAdjusted R-squared:  0.02763 \n",
       "F-statistic:  2.25 on 1 and 43 DF,  p-value: 0.1409\n"
      ]
     },
     "metadata": {},
     "output_type": "display_data"
    }
   ],
   "source": [
    "summary(model)"
   ]
  },
  {
   "attachments": {},
   "cell_type": "markdown",
   "metadata": {},
   "source": [
    "Our t-stat slope statistic can be found here:"
   ]
  },
  {
   "cell_type": "code",
   "execution_count": 43,
   "metadata": {
    "vscode": {
     "languageId": "r"
    }
   },
   "outputs": [
    {
     "name": "stdout",
     "output_type": "stream",
     "text": [
      "[1] \"T-Statistic -1.5000375789375\"\n",
      "[1] \"P-Val 0.140911883294628\"\n"
     ]
    }
   ],
   "source": [
    "print(paste(\"T-Statistic\",coef(summary(model))[\"et\", \"t value\"]))\n",
    "print(paste(\"P-Val\",coef(summary(model))[\"et\", \"Pr(>|t|)\"]))"
   ]
  },
  {
   "attachments": {},
   "cell_type": "markdown",
   "metadata": {},
   "source": [
    "### T slope test without outliers"
   ]
  },
  {
   "attachments": {},
   "cell_type": "markdown",
   "metadata": {},
   "source": [
    "### Checking conditions.\n",
    "1. Association is Linear (kinda)\n",
    "2. sample < 10% of population (yes, it should be)\n",
    "3. histogram of residuals is approx normal Observe.\n",
    "4. Residuals plot has equal variablilty (sure)\n"
   ]
  },
  {
   "attachments": {},
   "cell_type": "markdown",
   "metadata": {},
   "source": [
    "This looks pretty linear:"
   ]
  },
  {
   "cell_type": "code",
   "execution_count": 44,
   "metadata": {
    "vscode": {
     "languageId": "r"
    }
   },
   "outputs": [
    {
     "data": {
      "image/png": "[encoded data removed]",
      "text/plain": [
       "Plot with title \"Time Taken vs proportion correct (No outliers)\""
      ]
     },
     "metadata": {
      "image/png": {
       "height": 300,
       "width": 360
      }
     },
     "output_type": "display_data"
    }
   ],
   "source": [
    "plot(untimed_no$et, untimed_no$proportion, main = \"Time Taken vs proportion correct (No outliers)\", xlab = \"Time taken (seconds)\", ylab = \"proportion correct\")"
   ]
  },
  {
   "attachments": {},
   "cell_type": "markdown",
   "metadata": {},
   "source": [
    "So lets, begin. First, the residual histogram is approx normal"
   ]
  },
  {
   "cell_type": "code",
   "execution_count": 45,
   "metadata": {
    "vscode": {
     "languageId": "r"
    }
   },
   "outputs": [
    {
     "data": {
      "image/png": "[encoded data removed]",
      "text/plain": [
       "Plot with title \"Histogram of Residuals\""
      ]
     },
     "metadata": {
      "image/png": {
       "height": 300,
       "width": 360
      }
     },
     "output_type": "display_data"
    }
   ],
   "source": [
    "model_no <- lm(proportion~et, data = untimed_no)\n",
    "residuals_no <- residuals(model_no)\n",
    "set_plot_dimensions(6, 5)\n",
    "\n",
    "# Create a histogram of the residuals\n",
    "hist(residuals_no, col = \"steelblue\", main = \"Histogram of Residuals\", xlab = \"Residuals\", breaks=20)"
   ]
  },
  {
   "attachments": {},
   "cell_type": "markdown",
   "metadata": {},
   "source": [
    "By looking at the sample (removed outliers) 44 is definitely less than 10% of highschoolers."
   ]
  },
  {
   "cell_type": "code",
   "execution_count": 46,
   "metadata": {
    "vscode": {
     "languageId": "r"
    }
   },
   "outputs": [
    {
     "data": {
      "text/html": [
       "44"
      ],
      "text/latex": [
       "44"
      ],
      "text/markdown": [
       "44"
      ],
      "text/plain": [
       "[1] 44"
      ]
     },
     "metadata": {},
     "output_type": "display_data"
    }
   ],
   "source": [
    "nrow(untimed_no)"
   ]
  },
  {
   "attachments": {},
   "cell_type": "markdown",
   "metadata": {},
   "source": [
    "And by looking at the residuals plot, it seemds to be homoscedastic."
   ]
  },
  {
   "cell_type": "code",
   "execution_count": 47,
   "metadata": {
    "vscode": {
     "languageId": "r"
    }
   },
   "outputs": [
    {
     "data": {
      "image/png": "[encoded data removed]",
      "text/plain": [
       "Plot with title \"Plot of Residuals\""
      ]
     },
     "metadata": {
      "image/png": {
       "height": 300,
       "width": 360
      }
     },
     "output_type": "display_data"
    }
   ],
   "source": [
    "plot(residuals_no, type = \"p\", pch = 20, col = \"steelblue\",\n",
    "     main = \"Plot of Residuals\", xlab = \"Observation\", ylab = \"Residuals\")"
   ]
  },
  {
   "cell_type": "code",
   "execution_count": 48,
   "metadata": {
    "vscode": {
     "languageId": "r"
    }
   },
   "outputs": [
    {
     "data": {
      "image/png": "[encoded data removed]",
      "text/plain": [
       "Plot with title \"Time Taken vs proportion correct (No outliers)\""
      ]
     },
     "metadata": {
      "image/png": {
       "height": 300,
       "width": 360
      }
     },
     "output_type": "display_data"
    }
   ],
   "source": [
    "model_no <- lm(proportion~et, data = untimed_no)\n",
    "plot(untimed_no$et, untimed_no$proportion, main = \"Time Taken vs proportion correct (No outliers)\", xlab = \"Time taken (seconds)\", ylab = \"proportion correct\")\n",
    "abline(model_no, col = \"red\", lwd = 2)\n",
    "eq <- paste0(\"y = \", round(coef(model_no)[1], 4), \" + \", round(coef(model_no)[2], 4), \"x\")\n",
    "text(400, .9, eq, pos = 3, offset = 0.5)\n"
   ]
  },
  {
   "cell_type": "code",
   "execution_count": 49,
   "metadata": {
    "vscode": {
     "languageId": "r"
    }
   },
   "outputs": [
    {
     "data": {
      "text/plain": [
       "\n",
       "Call:\n",
       "lm(formula = proportion ~ et, data = untimed_no)\n",
       "\n",
       "Residuals:\n",
       "     Min       1Q   Median       3Q      Max \n",
       "-0.22648 -0.01764  0.01036  0.02588  0.05410 \n",
       "\n",
       "Coefficients:\n",
       "              Estimate Std. Error t value Pr(>|t|)    \n",
       "(Intercept)  9.926e-01  1.460e-02  67.975   <2e-16 ***\n",
       "et          -1.231e-04  5.821e-05  -2.115   0.0404 *  \n",
       "---\n",
       "Signif. codes:  0 '***' 0.001 '**' 0.01 '*' 0.05 '.' 0.1 ' ' 1\n",
       "\n",
       "Residual standard error: 0.04699 on 42 degrees of freedom\n",
       "Multiple R-squared:  0.09624,\tAdjusted R-squared:  0.07472 \n",
       "F-statistic: 4.472 on 1 and 42 DF,  p-value: 0.04042\n"
      ]
     },
     "metadata": {},
     "output_type": "display_data"
    },
    {
     "name": "stdout",
     "output_type": "stream",
     "text": [
      "[1] \"T-Statistic -2.11481556229248\"\n",
      "[1] \"P-Val 0.0404212754760079\"\n"
     ]
    }
   ],
   "source": [
    "summary(model_no)\n",
    "print(paste(\"T-Statistic\",coef(summary(model_no))[\"et\", \"t value\"]))\n",
    "print(paste(\"P-Val\",coef(summary(model_no))[\"et\", \"Pr(>|t|)\"]))"
   ]
  }
 ],
 "metadata": {
  "kernelspec": {
   "display_name": "R",
   "language": "R",
   "name": "ir"
  },
  "language_info": {
   "codemirror_mode": "r",
   "file_extension": ".r",
   "mimetype": "text/x-r-source",
   "name": "R",
   "pygments_lexer": "r",
   "version": "4.3.0"
  },
  "orig_nbformat": 4
 },
 "nbformat": 4,
 "nbformat_minor": 2
}
